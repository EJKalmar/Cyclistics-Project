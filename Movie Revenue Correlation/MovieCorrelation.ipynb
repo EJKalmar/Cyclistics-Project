{
 "cells": [
  {
   "cell_type": "markdown",
   "id": "381ccc2b-bc3a-410f-83b7-5d7662e6cfff",
   "metadata": {
    "tags": []
   },
   "source": [
    "# Movie Correlation Project\n",
    "Goal: Find which movie attributes are most correlated with their gross earnings using data visualization in python.\n",
    "\n",
    "Dataset: https://www.kaggle.com/datasets/danielgrijalvas/movies?resource=download\n"
   ]
  },
  {
   "cell_type": "code",
   "execution_count": 1,
   "id": "63524d8f-1f09-437f-b2a4-40ef21221606",
   "metadata": {},
   "outputs": [],
   "source": [
    "# Import Libraries\n",
    "import pandas as pd\n",
    "import seaborn as sb\n",
    "import numpy as np\n",
    "import matplotlib\n",
    "import matplotlib.pyplot as plt\n",
    "from matplotlib.pyplot import figure\n",
    "\n",
    "# read data\n",
    "data = pd.read_csv(r'Downloads\\movies.csv')"
   ]
  },
  {
   "cell_type": "code",
   "execution_count": 2,
   "id": "586c7dba-5171-4e8d-8adc-528ea279b488",
   "metadata": {},
   "outputs": [
    {
     "data": {
      "text/html": [
       "<div>\n",
       "<style scoped>\n",
       "    .dataframe tbody tr th:only-of-type {\n",
       "        vertical-align: middle;\n",
       "    }\n",
       "\n",
       "    .dataframe tbody tr th {\n",
       "        vertical-align: top;\n",
       "    }\n",
       "\n",
       "    .dataframe thead th {\n",
       "        text-align: right;\n",
       "    }\n",
       "</style>\n",
       "<table border=\"1\" class=\"dataframe\">\n",
       "  <thead>\n",
       "    <tr style=\"text-align: right;\">\n",
       "      <th></th>\n",
       "      <th>name</th>\n",
       "      <th>rating</th>\n",
       "      <th>genre</th>\n",
       "      <th>year</th>\n",
       "      <th>released</th>\n",
       "      <th>score</th>\n",
       "      <th>votes</th>\n",
       "      <th>director</th>\n",
       "      <th>writer</th>\n",
       "      <th>star</th>\n",
       "      <th>country</th>\n",
       "      <th>budget</th>\n",
       "      <th>gross</th>\n",
       "      <th>company</th>\n",
       "      <th>runtime</th>\n",
       "    </tr>\n",
       "  </thead>\n",
       "  <tbody>\n",
       "    <tr>\n",
       "      <th>0</th>\n",
       "      <td>The Shining</td>\n",
       "      <td>R</td>\n",
       "      <td>Drama</td>\n",
       "      <td>1980</td>\n",
       "      <td>June 13, 1980 (United States)</td>\n",
       "      <td>8.4</td>\n",
       "      <td>927000.0</td>\n",
       "      <td>Stanley Kubrick</td>\n",
       "      <td>Stephen King</td>\n",
       "      <td>Jack Nicholson</td>\n",
       "      <td>United Kingdom</td>\n",
       "      <td>19000000.0</td>\n",
       "      <td>46998772.0</td>\n",
       "      <td>Warner Bros.</td>\n",
       "      <td>146.0</td>\n",
       "    </tr>\n",
       "    <tr>\n",
       "      <th>1</th>\n",
       "      <td>The Blue Lagoon</td>\n",
       "      <td>R</td>\n",
       "      <td>Adventure</td>\n",
       "      <td>1980</td>\n",
       "      <td>July 2, 1980 (United States)</td>\n",
       "      <td>5.8</td>\n",
       "      <td>65000.0</td>\n",
       "      <td>Randal Kleiser</td>\n",
       "      <td>Henry De Vere Stacpoole</td>\n",
       "      <td>Brooke Shields</td>\n",
       "      <td>United States</td>\n",
       "      <td>4500000.0</td>\n",
       "      <td>58853106.0</td>\n",
       "      <td>Columbia Pictures</td>\n",
       "      <td>104.0</td>\n",
       "    </tr>\n",
       "    <tr>\n",
       "      <th>2</th>\n",
       "      <td>Star Wars: Episode V - The Empire Strikes Back</td>\n",
       "      <td>PG</td>\n",
       "      <td>Action</td>\n",
       "      <td>1980</td>\n",
       "      <td>June 20, 1980 (United States)</td>\n",
       "      <td>8.7</td>\n",
       "      <td>1200000.0</td>\n",
       "      <td>Irvin Kershner</td>\n",
       "      <td>Leigh Brackett</td>\n",
       "      <td>Mark Hamill</td>\n",
       "      <td>United States</td>\n",
       "      <td>18000000.0</td>\n",
       "      <td>538375067.0</td>\n",
       "      <td>Lucasfilm</td>\n",
       "      <td>124.0</td>\n",
       "    </tr>\n",
       "    <tr>\n",
       "      <th>3</th>\n",
       "      <td>Airplane!</td>\n",
       "      <td>PG</td>\n",
       "      <td>Comedy</td>\n",
       "      <td>1980</td>\n",
       "      <td>July 2, 1980 (United States)</td>\n",
       "      <td>7.7</td>\n",
       "      <td>221000.0</td>\n",
       "      <td>Jim Abrahams</td>\n",
       "      <td>Jim Abrahams</td>\n",
       "      <td>Robert Hays</td>\n",
       "      <td>United States</td>\n",
       "      <td>3500000.0</td>\n",
       "      <td>83453539.0</td>\n",
       "      <td>Paramount Pictures</td>\n",
       "      <td>88.0</td>\n",
       "    </tr>\n",
       "    <tr>\n",
       "      <th>4</th>\n",
       "      <td>Caddyshack</td>\n",
       "      <td>R</td>\n",
       "      <td>Comedy</td>\n",
       "      <td>1980</td>\n",
       "      <td>July 25, 1980 (United States)</td>\n",
       "      <td>7.3</td>\n",
       "      <td>108000.0</td>\n",
       "      <td>Harold Ramis</td>\n",
       "      <td>Brian Doyle-Murray</td>\n",
       "      <td>Chevy Chase</td>\n",
       "      <td>United States</td>\n",
       "      <td>6000000.0</td>\n",
       "      <td>39846344.0</td>\n",
       "      <td>Orion Pictures</td>\n",
       "      <td>98.0</td>\n",
       "    </tr>\n",
       "  </tbody>\n",
       "</table>\n",
       "</div>"
      ],
      "text/plain": [
       "                                             name rating      genre  year  \\\n",
       "0                                     The Shining      R      Drama  1980   \n",
       "1                                 The Blue Lagoon      R  Adventure  1980   \n",
       "2  Star Wars: Episode V - The Empire Strikes Back     PG     Action  1980   \n",
       "3                                       Airplane!     PG     Comedy  1980   \n",
       "4                                      Caddyshack      R     Comedy  1980   \n",
       "\n",
       "                        released  score      votes         director  \\\n",
       "0  June 13, 1980 (United States)    8.4   927000.0  Stanley Kubrick   \n",
       "1   July 2, 1980 (United States)    5.8    65000.0   Randal Kleiser   \n",
       "2  June 20, 1980 (United States)    8.7  1200000.0   Irvin Kershner   \n",
       "3   July 2, 1980 (United States)    7.7   221000.0     Jim Abrahams   \n",
       "4  July 25, 1980 (United States)    7.3   108000.0     Harold Ramis   \n",
       "\n",
       "                    writer            star         country      budget  \\\n",
       "0             Stephen King  Jack Nicholson  United Kingdom  19000000.0   \n",
       "1  Henry De Vere Stacpoole  Brooke Shields   United States   4500000.0   \n",
       "2           Leigh Brackett     Mark Hamill   United States  18000000.0   \n",
       "3             Jim Abrahams     Robert Hays   United States   3500000.0   \n",
       "4       Brian Doyle-Murray     Chevy Chase   United States   6000000.0   \n",
       "\n",
       "         gross             company  runtime  \n",
       "0   46998772.0        Warner Bros.    146.0  \n",
       "1   58853106.0   Columbia Pictures    104.0  \n",
       "2  538375067.0           Lucasfilm    124.0  \n",
       "3   83453539.0  Paramount Pictures     88.0  \n",
       "4   39846344.0      Orion Pictures     98.0  "
      ]
     },
     "execution_count": 2,
     "metadata": {},
     "output_type": "execute_result"
    }
   ],
   "source": [
    "# Inspect data\n",
    "data.head()"
   ]
  },
  {
   "cell_type": "markdown",
   "id": "3b541b4f-9ff6-41f5-ac7f-ed63ca477b61",
   "metadata": {},
   "source": [
    "## Data Cleaning"
   ]
  },
  {
   "cell_type": "markdown",
   "id": "d898474c-3e38-4e13-8ae5-ae2641fb3e22",
   "metadata": {},
   "source": [
    "#### Drop Rows With Null Values"
   ]
  },
  {
   "cell_type": "code",
   "execution_count": 3,
   "id": "9f00b3a8-608a-4694-9ce9-e16af5ff6011",
   "metadata": {
    "tags": []
   },
   "outputs": [
    {
     "name": "stdout",
     "output_type": "stream",
     "text": [
      "name - 0\n",
      "rating - 77\n",
      "genre - 0\n",
      "year - 0\n",
      "released - 2\n",
      "score - 3\n",
      "votes - 3\n",
      "director - 0\n",
      "writer - 3\n",
      "star - 1\n",
      "country - 3\n",
      "budget - 2171\n",
      "gross - 189\n",
      "company - 17\n",
      "runtime - 4\n"
     ]
    }
   ],
   "source": [
    "# Checking for null values\n",
    "  \n",
    "for col in data.columns:\n",
    "    num_missing = np.count_nonzero(data[col].isnull())\n",
    "    print('{} - {}'.format(col, num_missing))"
   ]
  },
  {
   "cell_type": "code",
   "execution_count": 4,
   "id": "7016d526-1ed9-4d29-b12d-34bbfa8fab61",
   "metadata": {},
   "outputs": [
    {
     "name": "stdout",
     "output_type": "stream",
     "text": [
      "2247 rows dropped.\n"
     ]
    }
   ],
   "source": [
    "# Count the number of rows with any null values\n",
    "x = len(data) - len(data.dropna())\n",
    "\n",
    "#If we want to inspect the rows with a null value in a given column.\n",
    "#data[data['budget'].isnull()].sort_values(by=['name'], ascending=False)\n",
    "\n",
    "# Drop rows with any null values\n",
    "data = data.dropna()\n",
    "\n",
    "print(x, \"rows dropped.\")"
   ]
  },
  {
   "cell_type": "markdown",
   "id": "b2453f93-033c-4685-85e0-a0ab2156ac33",
   "metadata": {},
   "source": [
    "#### Change Data Types"
   ]
  },
  {
   "cell_type": "code",
   "execution_count": 5,
   "id": "7ae1ec83-a5b5-457a-93ad-81695b3f66a4",
   "metadata": {},
   "outputs": [
    {
     "data": {
      "text/plain": [
       "name         object\n",
       "rating       object\n",
       "genre        object\n",
       "year          int64\n",
       "released     object\n",
       "score       float64\n",
       "votes       float64\n",
       "director     object\n",
       "writer       object\n",
       "star         object\n",
       "country      object\n",
       "budget      float64\n",
       "gross       float64\n",
       "company      object\n",
       "runtime     float64\n",
       "dtype: object"
      ]
     },
     "execution_count": 5,
     "metadata": {},
     "output_type": "execute_result"
    }
   ],
   "source": [
    "# Checking data types of columns\n",
    "\n",
    "data.dtypes"
   ]
  },
  {
   "cell_type": "code",
   "execution_count": 6,
   "id": "ed1d3409-d7a1-45f1-87b1-92673ac5fccb",
   "metadata": {
    "scrolled": true,
    "tags": []
   },
   "outputs": [],
   "source": [
    "# Change 'budget', 'gross', 'votes', and 'runtime' data type from float to integer for aesthetic purposes and for later analysis.\n",
    "data['budget'] = data['budget'].astype('int64')\n",
    "data['gross'] = data['gross'].astype('int64')\n",
    "data['votes'] = data['votes'].astype('int64')\n",
    "data['runtime'] = data['runtime'].astype('int64')\n",
    "data['year'] = data['year'].astype('int64')"
   ]
  },
  {
   "cell_type": "markdown",
   "id": "b0c5ee35-cc99-4489-8605-cdb326c48a8c",
   "metadata": {},
   "source": [
    "#### Remove Duplicate Rows"
   ]
  },
  {
   "cell_type": "code",
   "execution_count": 7,
   "id": "4789c8ca-b480-4ec6-ba53-8f72d660d510",
   "metadata": {
    "scrolled": true,
    "tags": []
   },
   "outputs": [
    {
     "name": "stdout",
     "output_type": "stream",
     "text": [
      "0 duplicate rows removed.\n"
     ]
    }
   ],
   "source": [
    "# Count the number of duplicate rows\n",
    "x = len(data) - len(data.drop_duplicates())\n",
    "\n",
    "# Drop rows with duplicate values\n",
    "data = data.drop_duplicates()\n",
    "\n",
    "print(x, \"duplicate rows removed.\")"
   ]
  },
  {
   "cell_type": "markdown",
   "id": "9e6aaa31-986d-433f-a298-b8f592aeb96c",
   "metadata": {},
   "source": [
    "#### Check Data For Consistency"
   ]
  },
  {
   "cell_type": "code",
   "execution_count": 8,
   "id": "0219bc64-d6c7-44fb-a08f-048b226400d0",
   "metadata": {
    "scrolled": true,
    "tags": []
   },
   "outputs": [
    {
     "data": {
      "text/html": [
       "<style>.jp-CodeCell.jp-mod-outputsScrolled .jp-Cell-outputArea { max-height: 22em; }</style>"
      ],
      "text/plain": [
       "<IPython.core.display.HTML object>"
      ]
     },
     "metadata": {},
     "output_type": "display_data"
    }
   ],
   "source": [
    "# Change the size of cells with scrolling outputs\n",
    "from IPython.core.display import display, HTML\n",
    "display(HTML(\"<style>.jp-CodeCell.jp-mod-outputsScrolled .jp-Cell-outputArea { max-height: 22em; }</style>\"))\n",
    "\n",
    "# Remove the limit on output size so we can see all the data\n",
    "pd.set_option('display.max_rows', None)\n",
    "# pd.reset_option('display.max_rows')\n",
    "\n",
    "# Sort the data by gross revenue.\n",
    "data = data.sort_values(by=['gross'], inplace=False, ascending=False)\n",
    "\n",
    "# Inspect our complete dataset.\n",
    "# data"
   ]
  },
  {
   "cell_type": "code",
   "execution_count": 9,
   "id": "1863a0a1-edf0-49e0-915e-f462296bce65",
   "metadata": {
    "scrolled": true,
    "tags": []
   },
   "outputs": [],
   "source": [
    "# 'Year' column is sometimes inconsistent with year from 'released' year, add column for correct year released\n",
    "\n",
    "def get_year(s):\n",
    "    return [x for x in s.split() if x.isdigit()][-1]\n",
    "\n",
    "data['yearcorrect'] = data['released'].astype(str).apply(get_year).astype('int64')\n",
    "\n",
    "#data['yearcorrect'].drop_duplicates().sort_values(ascending=False)"
   ]
  },
  {
   "cell_type": "code",
   "execution_count": 16,
   "id": "c060fac9-cb37-404e-b502-61179ee428d2",
   "metadata": {
    "scrolled": true,
    "tags": []
   },
   "outputs": [
    {
     "data": {
      "text/html": [
       "<div>\n",
       "<style scoped>\n",
       "    .dataframe tbody tr th:only-of-type {\n",
       "        vertical-align: middle;\n",
       "    }\n",
       "\n",
       "    .dataframe tbody tr th {\n",
       "        vertical-align: top;\n",
       "    }\n",
       "\n",
       "    .dataframe thead th {\n",
       "        text-align: right;\n",
       "    }\n",
       "</style>\n",
       "<table border=\"1\" class=\"dataframe\">\n",
       "  <thead>\n",
       "    <tr style=\"text-align: right;\">\n",
       "      <th></th>\n",
       "      <th>name</th>\n",
       "      <th>rating</th>\n",
       "      <th>genre</th>\n",
       "      <th>year</th>\n",
       "      <th>released</th>\n",
       "      <th>score</th>\n",
       "      <th>votes</th>\n",
       "      <th>director</th>\n",
       "      <th>writer</th>\n",
       "      <th>star</th>\n",
       "      <th>country</th>\n",
       "      <th>budget</th>\n",
       "      <th>gross</th>\n",
       "      <th>company</th>\n",
       "      <th>runtime</th>\n",
       "      <th>yearcorrect</th>\n",
       "    </tr>\n",
       "  </thead>\n",
       "  <tbody>\n",
       "    <tr>\n",
       "      <th>5445</th>\n",
       "      <td>Avatar</td>\n",
       "      <td>PG-13</td>\n",
       "      <td>Action</td>\n",
       "      <td>2009</td>\n",
       "      <td>December 18, 2009 (United States)</td>\n",
       "      <td>7.8</td>\n",
       "      <td>1100000</td>\n",
       "      <td>James Cameron</td>\n",
       "      <td>James Cameron</td>\n",
       "      <td>Sam Worthington</td>\n",
       "      <td>United States</td>\n",
       "      <td>237000000</td>\n",
       "      <td>2847246203</td>\n",
       "      <td>Twentieth Century Fox</td>\n",
       "      <td>162</td>\n",
       "      <td>2009</td>\n",
       "    </tr>\n",
       "    <tr>\n",
       "      <th>7445</th>\n",
       "      <td>Avengers: Endgame</td>\n",
       "      <td>PG-13</td>\n",
       "      <td>Action</td>\n",
       "      <td>2019</td>\n",
       "      <td>April 26, 2019 (United States)</td>\n",
       "      <td>8.4</td>\n",
       "      <td>903000</td>\n",
       "      <td>Anthony Russo</td>\n",
       "      <td>Christopher Markus</td>\n",
       "      <td>Robert Downey Jr.</td>\n",
       "      <td>United States</td>\n",
       "      <td>356000000</td>\n",
       "      <td>2797501328</td>\n",
       "      <td>Marvel Studios</td>\n",
       "      <td>181</td>\n",
       "      <td>2019</td>\n",
       "    </tr>\n",
       "    <tr>\n",
       "      <th>3045</th>\n",
       "      <td>Titanic</td>\n",
       "      <td>PG-13</td>\n",
       "      <td>Drama</td>\n",
       "      <td>1997</td>\n",
       "      <td>December 19, 1997 (United States)</td>\n",
       "      <td>7.8</td>\n",
       "      <td>1100000</td>\n",
       "      <td>James Cameron</td>\n",
       "      <td>James Cameron</td>\n",
       "      <td>Leonardo DiCaprio</td>\n",
       "      <td>United States</td>\n",
       "      <td>200000000</td>\n",
       "      <td>2201647264</td>\n",
       "      <td>Twentieth Century Fox</td>\n",
       "      <td>194</td>\n",
       "      <td>1997</td>\n",
       "    </tr>\n",
       "    <tr>\n",
       "      <th>6663</th>\n",
       "      <td>Star Wars: Episode VII - The Force Awakens</td>\n",
       "      <td>PG-13</td>\n",
       "      <td>Action</td>\n",
       "      <td>2015</td>\n",
       "      <td>December 18, 2015 (United States)</td>\n",
       "      <td>7.8</td>\n",
       "      <td>876000</td>\n",
       "      <td>J.J. Abrams</td>\n",
       "      <td>Lawrence Kasdan</td>\n",
       "      <td>Daisy Ridley</td>\n",
       "      <td>United States</td>\n",
       "      <td>245000000</td>\n",
       "      <td>2069521700</td>\n",
       "      <td>Lucasfilm</td>\n",
       "      <td>138</td>\n",
       "      <td>2015</td>\n",
       "    </tr>\n",
       "    <tr>\n",
       "      <th>7244</th>\n",
       "      <td>Avengers: Infinity War</td>\n",
       "      <td>PG-13</td>\n",
       "      <td>Action</td>\n",
       "      <td>2018</td>\n",
       "      <td>April 27, 2018 (United States)</td>\n",
       "      <td>8.4</td>\n",
       "      <td>897000</td>\n",
       "      <td>Anthony Russo</td>\n",
       "      <td>Christopher Markus</td>\n",
       "      <td>Robert Downey Jr.</td>\n",
       "      <td>United States</td>\n",
       "      <td>321000000</td>\n",
       "      <td>2048359754</td>\n",
       "      <td>Marvel Studios</td>\n",
       "      <td>149</td>\n",
       "      <td>2018</td>\n",
       "    </tr>\n",
       "  </tbody>\n",
       "</table>\n",
       "</div>"
      ],
      "text/plain": [
       "                                            name rating   genre  year  \\\n",
       "5445                                      Avatar  PG-13  Action  2009   \n",
       "7445                           Avengers: Endgame  PG-13  Action  2019   \n",
       "3045                                     Titanic  PG-13   Drama  1997   \n",
       "6663  Star Wars: Episode VII - The Force Awakens  PG-13  Action  2015   \n",
       "7244                      Avengers: Infinity War  PG-13  Action  2018   \n",
       "\n",
       "                               released  score    votes       director  \\\n",
       "5445  December 18, 2009 (United States)    7.8  1100000  James Cameron   \n",
       "7445     April 26, 2019 (United States)    8.4   903000  Anthony Russo   \n",
       "3045  December 19, 1997 (United States)    7.8  1100000  James Cameron   \n",
       "6663  December 18, 2015 (United States)    7.8   876000    J.J. Abrams   \n",
       "7244     April 27, 2018 (United States)    8.4   897000  Anthony Russo   \n",
       "\n",
       "                  writer               star        country     budget  \\\n",
       "5445       James Cameron    Sam Worthington  United States  237000000   \n",
       "7445  Christopher Markus  Robert Downey Jr.  United States  356000000   \n",
       "3045       James Cameron  Leonardo DiCaprio  United States  200000000   \n",
       "6663     Lawrence Kasdan       Daisy Ridley  United States  245000000   \n",
       "7244  Christopher Markus  Robert Downey Jr.  United States  321000000   \n",
       "\n",
       "           gross                company  runtime  yearcorrect  \n",
       "5445  2847246203  Twentieth Century Fox      162         2009  \n",
       "7445  2797501328         Marvel Studios      181         2019  \n",
       "3045  2201647264  Twentieth Century Fox      194         1997  \n",
       "6663  2069521700              Lucasfilm      138         2015  \n",
       "7244  2048359754         Marvel Studios      149         2018  "
      ]
     },
     "execution_count": 16,
     "metadata": {},
     "output_type": "execute_result"
    }
   ],
   "source": [
    "# Take a final look at our data before analysis.\n",
    "# data\n",
    "data.head()"
   ]
  },
  {
   "cell_type": "markdown",
   "id": "ab3683f6-1445-4827-af35-6668f38a7156",
   "metadata": {
    "tags": []
   },
   "source": [
    "## Analysis\n",
    "Which movie attributes are most correlated with gross revenue?"
   ]
  },
  {
   "cell_type": "code",
   "execution_count": 11,
   "id": "a4dfc6b3-5632-45cd-94b5-1e001579623d",
   "metadata": {},
   "outputs": [],
   "source": [
    "# Use ggplot style plots\n",
    "plt.style.use('ggplot')\n",
    "\n",
    "# Show plots in notebook\n",
    "%matplotlib inline\n",
    "\n",
    "# Adjust the configuration of the plots we will create\n",
    "matplotlib.rcParams['figure.figsize'] = (12,8)"
   ]
  },
  {
   "cell_type": "markdown",
   "id": "482f681b-9253-4f3a-8e4a-9a26027935ab",
   "metadata": {},
   "source": [
    "#### Budget\n",
    "We will first take a look at budget, since this seems the most likely to be correlated with gross revenue."
   ]
  },
  {
   "cell_type": "markdown",
   "id": "7018407a-7484-4fac-89e3-77a8d1a17733",
   "metadata": {},
   "source": [
    "##### Scatter Plot Using Matplotlib"
   ]
  },
  {
   "cell_type": "code",
   "execution_count": 12,
   "id": "e1fe3493-cfb7-4f45-8092-0fa7e16438f5",
   "metadata": {},
   "outputs": [
    {
     "data": {
      "image/png": "[encoded data removed]",
      "text/plain": [
       "<Figure size 864x576 with 1 Axes>"
      ]
     },
     "metadata": {
      "needs_background": "light"
     },
     "output_type": "display_data"
    }
   ],
   "source": [
    "plt.scatter(x=data['budget'], y=data['gross'])\n",
    "plt.title('Movie Budgets vs Gross Revenue')\n",
    "plt.xlabel('Gross Revenue')\n",
    "plt.ylabel('Budget')\n",
    "\n",
    "plt.show()"
   ]
  },
  {
   "cell_type": "markdown",
   "id": "7a4c78a4-ddc1-4eff-91ac-e5efadda20bb",
   "metadata": {},
   "source": [
    "##### Regression Plot Using Seaborn"
   ]
  },
  {
   "cell_type": "code",
   "execution_count": 13,
   "id": "86e4d40c-edc8-4427-80a1-34660070c4fd",
   "metadata": {},
   "outputs": [
    {
     "data": {
      "text/plain": [
       "<AxesSubplot:xlabel='budget', ylabel='gross'>"
      ]
     },
     "execution_count": 13,
     "metadata": {},
     "output_type": "execute_result"
    },
    {
     "data": {
      "image/png": "[encoded data removed]",
      "text/plain": [
       "<Figure size 864x576 with 1 Axes>"
      ]
     },
     "metadata": {
      "needs_background": "light"
     },
     "output_type": "display_data"
    }
   ],
   "source": [
    "sb.regplot(x='budget', y='gross', data=data, scatter_kws={\"color\":\"red\"}, line_kws={\"color\":\"blue\"})"
   ]
  },
  {
   "cell_type": "markdown",
   "id": "7fd4995f-4ff0-4f4c-b581-914197055805",
   "metadata": {},
   "source": [
    "As expected, there is a strong correlation between budget and gross revenue."
   ]
  },
  {
   "cell_type": "markdown",
   "id": "9bcae02d-4cf1-4611-a1ff-edd6bfd06fb6",
   "metadata": {},
   "source": [
    "#### Other Attributes\n",
    "Now let's look at the correlation between all attributes and gross revenue. For the purpose of this analysis, only numeric attributes are considered."
   ]
  },
  {
   "cell_type": "markdown",
   "id": "1b65de7a-4be3-4e2d-8fa1-1745b8e9d24d",
   "metadata": {},
   "source": [
    "##### Correlation Matrix"
   ]
  },
  {
   "cell_type": "code",
   "execution_count": 14,
   "id": "38d2ada8-7857-4460-bcde-baf27c919d44",
   "metadata": {},
   "outputs": [
    {
     "data": {
      "image/png": "[encoded data removed]",
      "text/plain": [
       "<Figure size 864x576 with 2 Axes>"
      ]
     },
     "metadata": {
      "needs_background": "light"
     },
     "output_type": "display_data"
    }
   ],
   "source": [
    "correlation_matrix = data.corr(method='pearson') # Alternative methods are kendall, spearman\n",
    "sb.heatmap(correlation_matrix, annot=True)\n",
    "plt.title('Correlation Matrix for Movie Attributes')\n",
    "plt.show()"
   ]
  },
  {
   "cell_type": "markdown",
   "id": "bda0123a-9c70-4aec-a28f-b4feccf96848",
   "metadata": {},
   "source": [
    "Budget has the strongest correlation with gross revenue, with number of user votes on IMDB also having a moderate correlation."
   ]
  },
  {
   "cell_type": "markdown",
   "id": "377343ef-5a74-4f94-8f08-79f7f79dc192",
   "metadata": {},
   "source": [
    "##### Correlation Pairs\n",
    "Another Way of Looking at Correlation"
   ]
  },
  {
   "cell_type": "code",
   "execution_count": 28,
   "id": "441e0b18-d1e6-4c1e-b35c-5fede29bf702",
   "metadata": {
    "scrolled": true,
    "tags": []
   },
   "outputs": [
    {
     "data": {
      "text/plain": [
       "gross          1.000000\n",
       "budget         0.740247\n",
       "votes          0.614751\n",
       "runtime        0.275796\n",
       "year           0.274321\n",
       "yearcorrect    0.268721\n",
       "score          0.222556\n",
       "dtype: float64"
      ]
     },
     "execution_count": 28,
     "metadata": {},
     "output_type": "execute_result"
    }
   ],
   "source": [
    "corr_pairs = correlation_matrix.unstack().sort_values(ascending = False)\n",
    "corr_pairs['gross']"
   ]
  },
  {
   "cell_type": "markdown",
   "id": "61f961e3-926a-49aa-8ca1-feb25f5c5d4e",
   "metadata": {},
   "source": [
    "### Conclusion\n",
    "A movie's gross revenue has a strong correlation with its budget.\n",
    "\n",
    "A movie's gross revenue has a moderate correlation with its number of user votes on IMDB.\n",
    "\n",
    "A movie's gross revenue has a low correlation with its runtime, yeare, and user score on IMDB."
   ]
  }
 ],
 "metadata": {
  "kernelspec": {
   "display_name": "Python 3 (ipykernel)",
   "language": "python",
   "name": "python3"
  },
  "language_info": {
   "codemirror_mode": {
    "name": "ipython",
    "version": 3
   },
   "file_extension": ".py",
   "mimetype": "text/x-python",
   "name": "python",
   "nbconvert_exporter": "python",
   "pygments_lexer": "ipython3",
   "version": "3.9.7"
  }
 },
 "nbformat": 4,
 "nbformat_minor": 5
}
